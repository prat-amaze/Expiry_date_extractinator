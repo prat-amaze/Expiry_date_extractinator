{
  "cells": [
    {
      "cell_type": "markdown",
      "metadata": {
        "id": "view-in-github",
        "colab_type": "text"
      },
      "source": [
        "<a href=\"https://colab.research.google.com/github/prat-amaze/Expiry_date_extractinator/blob/main/Subspace.ipynb\" target=\"_parent\"><img src=\"https://colab.research.google.com/assets/colab-badge.svg\" alt=\"Open In Colab\"/></a>"
      ]
    },
    {
      "cell_type": "code",
      "execution_count": null,
      "metadata": {
        "colab": {
          "base_uri": "https://localhost:8080/"
        },
        "id": "X91Q503IA94j",
        "outputId": "29a320ff-212d-4fb3-9f77-c254b9af2b79"
      },
      "outputs": [
        {
          "output_type": "stream",
          "name": "stdout",
          "text": [
            "Looking in indexes: https://pypi.org/simple, https://us-python.pkg.dev/colab-wheels/public/simple/\n",
            "Collecting easyocr\n",
            "  Downloading easyocr-1.6.2-py3-none-any.whl (2.9 MB)\n",
            "\u001b[K     |████████████████████████████████| 2.9 MB 7.0 MB/s \n",
            "\u001b[?25hRequirement already satisfied: numpy in /usr/local/lib/python3.8/dist-packages (from easyocr) (1.21.6)\n",
            "Requirement already satisfied: Pillow in /usr/local/lib/python3.8/dist-packages (from easyocr) (7.1.2)\n",
            "Collecting pyclipper\n",
            "  Downloading pyclipper-1.3.0.post4-cp38-cp38-manylinux_2_5_x86_64.manylinux1_x86_64.whl (619 kB)\n",
            "\u001b[K     |████████████████████████████████| 619 kB 71.6 MB/s \n",
            "\u001b[?25hCollecting opencv-python-headless<=4.5.4.60\n",
            "  Downloading opencv_python_headless-4.5.4.60-cp38-cp38-manylinux_2_17_x86_64.manylinux2014_x86_64.whl (47.6 MB)\n",
            "\u001b[K     |████████████████████████████████| 47.6 MB 114 kB/s \n",
            "\u001b[?25hCollecting ninja\n",
            "  Downloading ninja-1.11.1-py2.py3-none-manylinux_2_12_x86_64.manylinux2010_x86_64.whl (145 kB)\n",
            "\u001b[K     |████████████████████████████████| 145 kB 28.7 MB/s \n",
            "\u001b[?25hRequirement already satisfied: PyYAML in /usr/local/lib/python3.8/dist-packages (from easyocr) (6.0)\n",
            "Collecting python-bidi\n",
            "  Downloading python_bidi-0.4.2-py2.py3-none-any.whl (30 kB)\n",
            "Requirement already satisfied: torchvision>=0.5 in /usr/local/lib/python3.8/dist-packages (from easyocr) (0.14.0+cu116)\n",
            "Requirement already satisfied: scikit-image in /usr/local/lib/python3.8/dist-packages (from easyocr) (0.18.3)\n",
            "Requirement already satisfied: scipy in /usr/local/lib/python3.8/dist-packages (from easyocr) (1.7.3)\n",
            "Requirement already satisfied: Shapely in /usr/local/lib/python3.8/dist-packages (from easyocr) (1.8.5.post1)\n",
            "Requirement already satisfied: torch in /usr/local/lib/python3.8/dist-packages (from easyocr) (1.13.0+cu116)\n",
            "Requirement already satisfied: requests in /usr/local/lib/python3.8/dist-packages (from torchvision>=0.5->easyocr) (2.23.0)\n",
            "Requirement already satisfied: typing-extensions in /usr/local/lib/python3.8/dist-packages (from torchvision>=0.5->easyocr) (4.4.0)\n",
            "Requirement already satisfied: six in /usr/local/lib/python3.8/dist-packages (from python-bidi->easyocr) (1.15.0)\n",
            "Requirement already satisfied: urllib3!=1.25.0,!=1.25.1,<1.26,>=1.21.1 in /usr/local/lib/python3.8/dist-packages (from requests->torchvision>=0.5->easyocr) (1.24.3)\n",
            "Requirement already satisfied: chardet<4,>=3.0.2 in /usr/local/lib/python3.8/dist-packages (from requests->torchvision>=0.5->easyocr) (3.0.4)\n",
            "Requirement already satisfied: idna<3,>=2.5 in /usr/local/lib/python3.8/dist-packages (from requests->torchvision>=0.5->easyocr) (2.10)\n",
            "Requirement already satisfied: certifi>=2017.4.17 in /usr/local/lib/python3.8/dist-packages (from requests->torchvision>=0.5->easyocr) (2022.9.24)\n",
            "Requirement already satisfied: imageio>=2.3.0 in /usr/local/lib/python3.8/dist-packages (from scikit-image->easyocr) (2.9.0)\n",
            "Requirement already satisfied: matplotlib!=3.0.0,>=2.0.0 in /usr/local/lib/python3.8/dist-packages (from scikit-image->easyocr) (3.2.2)\n",
            "Requirement already satisfied: networkx>=2.0 in /usr/local/lib/python3.8/dist-packages (from scikit-image->easyocr) (2.8.8)\n",
            "Requirement already satisfied: tifffile>=2019.7.26 in /usr/local/lib/python3.8/dist-packages (from scikit-image->easyocr) (2022.10.10)\n",
            "Requirement already satisfied: PyWavelets>=1.1.1 in /usr/local/lib/python3.8/dist-packages (from scikit-image->easyocr) (1.4.1)\n",
            "Requirement already satisfied: kiwisolver>=1.0.1 in /usr/local/lib/python3.8/dist-packages (from matplotlib!=3.0.0,>=2.0.0->scikit-image->easyocr) (1.4.4)\n",
            "Requirement already satisfied: pyparsing!=2.0.4,!=2.1.2,!=2.1.6,>=2.0.1 in /usr/local/lib/python3.8/dist-packages (from matplotlib!=3.0.0,>=2.0.0->scikit-image->easyocr) (3.0.9)\n",
            "Requirement already satisfied: python-dateutil>=2.1 in /usr/local/lib/python3.8/dist-packages (from matplotlib!=3.0.0,>=2.0.0->scikit-image->easyocr) (2.8.2)\n",
            "Requirement already satisfied: cycler>=0.10 in /usr/local/lib/python3.8/dist-packages (from matplotlib!=3.0.0,>=2.0.0->scikit-image->easyocr) (0.11.0)\n",
            "Installing collected packages: python-bidi, pyclipper, opencv-python-headless, ninja, easyocr\n",
            "  Attempting uninstall: opencv-python-headless\n",
            "    Found existing installation: opencv-python-headless 4.6.0.66\n",
            "    Uninstalling opencv-python-headless-4.6.0.66:\n",
            "      Successfully uninstalled opencv-python-headless-4.6.0.66\n",
            "Successfully installed easyocr-1.6.2 ninja-1.11.1 opencv-python-headless-4.5.4.60 pyclipper-1.3.0.post4 python-bidi-0.4.2\n"
          ]
        }
      ],
      "source": [
        "!pip install easyocr"
      ]
    },
    {
      "cell_type": "code",
      "execution_count": null,
      "metadata": {
        "id": "W867hUneBIbn"
      },
      "outputs": [],
      "source": [
        "import cv2\n",
        "import easyocr\n",
        "from pylab import rcParams\n",
        "from PIL import Image\n",
        "import json\n",
        "import requests\n",
        "rcParams['figure.figsize']= 8,16"
      ]
    },
    {
      "cell_type": "code",
      "execution_count": null,
      "metadata": {
        "id": "mWoDnN_9C_go"
      },
      "outputs": [],
      "source": [
        "reader= easyocr.Reader(['en'])"
      ]
    },
    {
      "cell_type": "code",
      "execution_count": null,
      "metadata": {
        "id": "3ZTwIAacEOJq"
      },
      "outputs": [],
      "source": [
        "#importing date related libraries and modules\n",
        "import re\n",
        "from dateutil import parser\n",
        "from dateutil.relativedelta import relativedelta\n",
        "import datetime\n"
      ]
    },
    {
      "cell_type": "code",
      "execution_count": null,
      "metadata": {
        "id": "CxrwFiGzfG0k"
      },
      "outputs": [],
      "source": [
        "#function for converting text\n",
        "def image_to_text(url):\n",
        "  try:\n",
        "    img= Image.open(requests.get(url, stream=True).raw)\n",
        "    text=reader.readtext(img, detail=0)\n",
        "    return text\n",
        "  except:\n",
        "    return \"f\"\n"
      ]
    },
    {
      "cell_type": "code",
      "execution_count": null,
      "metadata": {
        "id": "da3oNcuCGSXm"
      },
      "outputs": [],
      "source": [
        "#loading dataset\n",
        "pk = requests.get(\"https://cdn.subspace.money/internship/data_load.json\")\n",
        "dataset = pk.json()"
      ]
    },
    {
      "cell_type": "code",
      "execution_count": null,
      "metadata": {
        "id": "Wpm_ce44KbAi"
      },
      "outputs": [],
      "source": [
        "def transform_data(dataset):\n",
        "  date= [] #list of all expiry dates\n",
        "  for i, o in enumerate(dataset):\n",
        "    created= parser.parse(o[\"created_at\"]).date()\n",
        "    #getting values of duration and created at\n",
        "    if(o[\"whatsub_plan\"][\"duration_type\"]==\"months\"):\n",
        "      dur= (o[\"whatsub_plan\"][\"duration\"])\n",
        "    else:\n",
        "      dur=12*(o[\"whatsub_plan\"][\"duration\"])\n",
        "    #reading image and converting to text\n",
        "    image_url = o[\"expiry_image\"]\n",
        "    image_text = image_to_text(image_url)\n",
        "    z= \" \".join(image_text)\n",
        "\n",
        "    image_date=re.findall(\"[ADFJMNOS]\\w*[\\W]+\\d{2,4}[\\W]+\\d{2,4}|\\d{2,4}[\\W]+[ADFJMNOS]\\w*[\\W]+\\d{2,4}|\\d{2,4}[\\W]+\\d{2,4}[\\W]+\\d{2,4}|\\d{2,4}[\\W]+\\d{2,4}[\\W]+[ADFJMNOS]\\w*\", z)\n",
        "    #converting all dates in text to datetime.date type\n",
        "    a=[]\n",
        "    for j in image_date:\n",
        "      try:\n",
        "        d= parser.parse(j, fuzzy= True).date()\n",
        "        print(type(d))\n",
        "        a.append(d)\n",
        "      except:\n",
        "        pass\n",
        "    #checking correct date before adding in dates\n",
        "    if(len(a)==1):\n",
        "      x = a[0].strftime('%Y-%m-%d')\n",
        "      date.append(x)\n",
        "    elif(len(a)>1):\n",
        "      l= created + relativedelta(dur)\n",
        "      if((a[0]- l) < (a[1]-l)):\n",
        "        x = a[0].strftime('%Y-%m-%d')\n",
        "        date.append(x)\n",
        "      else:\n",
        "        x = a[1].strftime('%Y-%m-%d')\n",
        "        date.append(x)\n",
        "    else:\n",
        "      pass\n",
        "\n",
        "  return date"
      ]
    },
    {
      "cell_type": "code",
      "execution_count": null,
      "metadata": {
        "colab": {
          "base_uri": "https://localhost:8080/"
        },
        "id": "4V98qfG2nISM",
        "outputId": "55329ff9-0d21-4cb6-b5d7-12a74b9bc721"
      },
      "outputs": [
        {
          "output_type": "stream",
          "name": "stdout",
          "text": [
            "<class 'datetime.date'>\n",
            "<class 'datetime.date'>\n",
            "<class 'datetime.date'>\n"
          ]
        }
      ],
      "source": [
        "expiry_date= transform_data(dataset[0:5])"
      ]
    },
    {
      "cell_type": "code",
      "execution_count": null,
      "metadata": {
        "id": "ZZuefY7WnOGD",
        "colab": {
          "base_uri": "https://localhost:8080/"
        },
        "outputId": "7bb0b7dc-2071-4000-93d4-a46999fe4b7b"
      },
      "outputs": [
        {
          "output_type": "execute_result",
          "data": {
            "text/plain": [
              "['2020-01-21', '2022-03-29', '2022-12-27']"
            ]
          },
          "metadata": {},
          "execution_count": 12
        }
      ],
      "source": [
        "expiry_date"
      ]
    },
    {
      "cell_type": "code",
      "source": [],
      "metadata": {
        "id": "kMxosTkwNf-6"
      },
      "execution_count": null,
      "outputs": []
    }
  ],
  "metadata": {
    "accelerator": "GPU",
    "colab": {
      "provenance": [],
      "include_colab_link": true
    },
    "kernelspec": {
      "display_name": "Python 3",
      "name": "python3"
    },
    "language_info": {
      "name": "python"
    }
  },
  "nbformat": 4,
  "nbformat_minor": 0
}